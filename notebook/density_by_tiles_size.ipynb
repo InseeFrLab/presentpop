{
 "cells": [
  {
   "cell_type": "markdown",
   "id": "e8dab1d3-c948-41ae-979b-c612e22c7b82",
   "metadata": {},
   "source": [
    "# Do the larger quad tree grid cells correspond to non-residential land uses? \n",
    "\n",
    "This notebook has been used to answer this referee question."
   ]
  },
  {
   "cell_type": "code",
   "execution_count": 1,
   "id": "41b1ed2f-af69-4227-8354-c1869965c77f",
   "metadata": {},
   "outputs": [],
   "source": [
    "# Install package utils\n",
    "import sys\n",
    "!{sys.executable} -m pip install --user -q -q -e ../"
   ]
  },
  {
   "cell_type": "code",
   "execution_count": 2,
   "id": "41dab2c2-5eab-462e-8862-2a8db6b680ad",
   "metadata": {},
   "outputs": [],
   "source": [
    "from mobitic_utils.db import engine\n",
    "with engine.connect() as connection:\n",
    "        res = connection.execute(\"SELECT SUM(p.population) FROM filosofi p\").fetchall()"
   ]
  },
  {
   "cell_type": "code",
   "execution_count": 21,
   "id": "d017f541-b4a2-4e15-a2a7-01a6574e90ea",
   "metadata": {},
   "outputs": [],
   "source": [
    "query = \"\"\"\n",
    "WITH data as (\n",
    "\t   (SELECT p.population as density,\n",
    "\t   SQRT(ST_AREA(p.geometry)) as tile_size,\n",
    "\t   g.\"x-y\" as tile FROM filosofi as p, grille g WHERE p.\"x-y\"=g.\"x-y\")\n",
    "\t   UNION\n",
    "\t   (SELECT COALESCE(0) as density,\n",
    "\t   SQRT(ST_AREA(g.geometry)) as tile_size,\n",
    "\t   g.\"x-y\" as tile FROM grille g WHERE g.\"x-y\" not in (SELECT p.\"x-y\" FROM filosofi p))\n",
    "\t   )\n",
    "SELECT AVG(density), tile_size, count(DISTINCT tile) FROM data GROUP BY tile_size\n",
    "\"\"\"\n",
    "\n",
    "with engine.connect() as connection:\n",
    "        res = connection.execute(query).fetchall()"
   ]
  },
  {
   "cell_type": "code",
   "execution_count": 23,
   "id": "cc0dcbbe-0310-4f70-8415-5ddf8fe3caad",
   "metadata": {},
   "outputs": [
    {
     "data": {
      "text/html": [
       "<div>\n",
       "<style scoped>\n",
       "    .dataframe tbody tr th:only-of-type {\n",
       "        vertical-align: middle;\n",
       "    }\n",
       "\n",
       "    .dataframe tbody tr th {\n",
       "        vertical-align: top;\n",
       "    }\n",
       "\n",
       "    .dataframe thead th {\n",
       "        text-align: right;\n",
       "    }\n",
       "</style>\n",
       "<table border=\"1\" class=\"dataframe\">\n",
       "  <thead>\n",
       "    <tr style=\"text-align: right;\">\n",
       "      <th></th>\n",
       "      <th>AVG_DENSITY</th>\n",
       "      <th>TILE_SIDE</th>\n",
       "      <th>DISTINCT_TILES</th>\n",
       "    </tr>\n",
       "  </thead>\n",
       "  <tbody>\n",
       "    <tr>\n",
       "      <th>0</th>\n",
       "      <td>23208.948864</td>\n",
       "      <td>100.0</td>\n",
       "      <td>2816</td>\n",
       "    </tr>\n",
       "    <tr>\n",
       "      <th>1</th>\n",
       "      <td>15894.860906</td>\n",
       "      <td>200.0</td>\n",
       "      <td>4062</td>\n",
       "    </tr>\n",
       "    <tr>\n",
       "      <th>2</th>\n",
       "      <td>5666.538057</td>\n",
       "      <td>400.0</td>\n",
       "      <td>8796</td>\n",
       "    </tr>\n",
       "    <tr>\n",
       "      <th>3</th>\n",
       "      <td>1648.903879</td>\n",
       "      <td>800.0</td>\n",
       "      <td>12721</td>\n",
       "    </tr>\n",
       "    <tr>\n",
       "      <th>4</th>\n",
       "      <td>278.740541</td>\n",
       "      <td>1600.0</td>\n",
       "      <td>20743</td>\n",
       "    </tr>\n",
       "    <tr>\n",
       "      <th>5</th>\n",
       "      <td>61.119656</td>\n",
       "      <td>3200.0</td>\n",
       "      <td>28339</td>\n",
       "    </tr>\n",
       "    <tr>\n",
       "      <th>6</th>\n",
       "      <td>27.031261</td>\n",
       "      <td>6400.0</td>\n",
       "      <td>5024</td>\n",
       "    </tr>\n",
       "    <tr>\n",
       "      <th>7</th>\n",
       "      <td>10.000610</td>\n",
       "      <td>12800.0</td>\n",
       "      <td>2</td>\n",
       "    </tr>\n",
       "  </tbody>\n",
       "</table>\n",
       "</div>"
      ],
      "text/plain": [
       "    AVG_DENSITY  TILE_SIDE  DISTINCT_TILES\n",
       "0  23208.948864      100.0            2816\n",
       "1  15894.860906      200.0            4062\n",
       "2   5666.538057      400.0            8796\n",
       "3   1648.903879      800.0           12721\n",
       "4    278.740541     1600.0           20743\n",
       "5     61.119656     3200.0           28339\n",
       "6     27.031261     6400.0            5024\n",
       "7     10.000610    12800.0               2"
      ]
     },
     "execution_count": 23,
     "metadata": {},
     "output_type": "execute_result"
    }
   ],
   "source": [
    "import pandas as pd\n",
    "df = pd.DataFrame([list(x) for x in res], columns = ['AVG_DENSITY','TILE_SIDE','DISTINCT_TILES']).sort_values('TILE_SIDE')\n",
    "df "
   ]
  },
  {
   "cell_type": "code",
   "execution_count": 24,
   "id": "7934182a-3fc3-4165-935c-231d31c2c0bc",
   "metadata": {},
   "outputs": [
    {
     "data": {
      "text/plain": [
       "'\\\\begin{tabular}{lrrr}\\n & AVG_DENSITY & TILE_SIDE & DISTINCT_TILES \\\\\\\\\\n0 & 23208.948864 & 100.000000 & 2816 \\\\\\\\\\n1 & 15894.860906 & 200.000000 & 4062 \\\\\\\\\\n2 & 5666.538057 & 400.000000 & 8796 \\\\\\\\\\n3 & 1648.903879 & 800.000000 & 12721 \\\\\\\\\\n4 & 278.740541 & 1600.000000 & 20743 \\\\\\\\\\n5 & 61.119656 & 3200.000000 & 28339 \\\\\\\\\\n6 & 27.031261 & 6400.000000 & 5024 \\\\\\\\\\n7 & 10.000610 & 12800.000000 & 2 \\\\\\\\\\n\\\\end{tabular}\\n'"
      ]
     },
     "execution_count": 24,
     "metadata": {},
     "output_type": "execute_result"
    }
   ],
   "source": [
    "df.style.to_latex()"
   ]
  },
  {
   "cell_type": "code",
   "execution_count": 25,
   "id": "80e434c4-45b9-4404-8e2e-226cbeefbcae",
   "metadata": {},
   "outputs": [
    {
     "data": {
      "text/plain": [
       "82503"
      ]
     },
     "execution_count": 25,
     "metadata": {},
     "output_type": "execute_result"
    }
   ],
   "source": [
    "df['DISTINCT_TILES'].sum()"
   ]
  },
  {
   "cell_type": "code",
   "execution_count": 31,
   "id": "9f7a8dd4-df43-4216-8cb0-925d228ea640",
   "metadata": {},
   "outputs": [
    {
     "data": {
      "text/plain": [
       "559143.6"
      ]
     },
     "execution_count": 31,
     "metadata": {},
     "output_type": "execute_result"
    }
   ],
   "source": [
    "import numpy as np\n",
    "np.sum(df['TILE_SIDE'].apply(lambda x : x**2)*df['DISTINCT_TILES'])/(1000**2)"
   ]
  }
 ],
 "metadata": {
  "kernelspec": {
   "display_name": "Python 3 (ipykernel)",
   "language": "python",
   "name": "python3"
  },
  "language_info": {
   "codemirror_mode": {
    "name": "ipython",
    "version": 3
   },
   "file_extension": ".py",
   "mimetype": "text/x-python",
   "name": "python",
   "nbconvert_exporter": "python",
   "pygments_lexer": "ipython3",
   "version": "3.10.4"
  }
 },
 "nbformat": 4,
 "nbformat_minor": 5
}
