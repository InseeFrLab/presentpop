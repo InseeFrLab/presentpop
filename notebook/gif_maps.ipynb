{
 "cells": [
  {
   "cell_type": "markdown",
   "metadata": {},
   "source": [
    "# Variation of Present Population Density (Personsper square kilometer), hourly within day and daily within week, at national level and in Paris\n",
    "\n",
    "This notebook can be run to get the animated images from the publication."
   ]
  },
  {
   "cell_type": "code",
   "execution_count": null,
   "metadata": {},
   "outputs": [],
   "source": [
    "import sys\n",
    "!{sys.executable} -m pip install --user -q -q -e ../"
   ]
  },
  {
   "cell_type": "code",
   "execution_count": null,
   "metadata": {},
   "outputs": [],
   "source": [
    "from mobitic_utils.db import import_gpd_from_sql\n",
    "import matplotlib.pyplot as plt\n",
    "from mobitic_utils.maps import cmap\n",
    "# NB: il faut un restart kernel"
   ]
  },
  {
   "cell_type": "code",
   "execution_count": null,
   "metadata": {},
   "outputs": [],
   "source": [
    "sql = 'select ST_UNION(geometry) as geometry, aa.\"REG\" from area_attraction aa GROUP BY aa.\"REG\"'\n",
    "reg = import_gpd_from_sql(sql)"
   ]
  },
  {
   "cell_type": "markdown",
   "metadata": {},
   "source": [
    "## National level, variation of volume / daily mean, wednesday March 19"
   ]
  },
  {
   "cell_type": "code",
   "execution_count": null,
   "metadata": {},
   "outputs": [],
   "source": [
    "sql = 'select g.geometry, p.\"2-0\", p.\"2-1\", p.\"2-2\", p.\"2-3\", p.\"2-4\", p.\"2-5\", p.\"2-6\", p.\"2-7\", p.\"2-8\", p.\"2-9\", p.\"2-10\", p.\"2-11\", p.\"2-12\", p.\"2-13\", p.\"2-14\", p.\"2-15\", p.\"2-16\", p.\"2-17\", p.\"2-18\", p.\"2-19\", p.\"2-20\", p.\"2-21\", p.\"2-22\", p.\"2-23\" '\\\n",
    "      'from total_population p, grille g '\\\n",
    "      'where p.\"x-y\" = g.\"x-y\" and p.week = 12'\n",
    "pop = import_gpd_from_sql(sql)\n",
    "mean_tile =  pop[pop.columns[pop.columns.str.slice(0,1) == '2']].mean(1)\n",
    "pop[pop.columns[pop.columns.str.slice(0,1) == '2']] = pop[pop.columns[pop.columns.str.slice(0,1) == '2']].sub(mean_tile, axis='rows')"
   ]
  },
  {
   "cell_type": "code",
   "execution_count": null,
   "metadata": {},
   "outputs": [],
   "source": [
    "bins = [-100, -25, -5, 0, 5, 25, 100, 10000000000]\n",
    "vars = ['2-' + str(h) for h in range(24)]\n",
    "for var in vars:\n",
    "    cmap(pop, var, dfg_bounds = reg.to_crs(\"EPSG:27572\"), bins = bins, png = var + '.png')"
   ]
  },
  {
   "cell_type": "markdown",
   "metadata": {},
   "source": [
    "## Paris, variation of volume / daily mean, wednesday March 19"
   ]
  },
  {
   "cell_type": "code",
   "execution_count": null,
   "metadata": {},
   "outputs": [],
   "source": [
    "bins = [-100, -50, -10, 0, 10, 50, 100, 10000000000]\n",
    "vars = ['2-' + str(h)  for h in range(24)]\n",
    "for var in vars:\n",
    "    cmap(pop.cx[585368:613390, 2420157:2439660], var,  bins = bins, png = 'paris_' + var + '.png' , context = True, xlim =(585368,613390), ylim = (2420157,2439660))"
   ]
  },
  {
   "cell_type": "markdown",
   "metadata": {},
   "source": [
    "## National level, variation of daily volumes / weekly mean"
   ]
  },
  {
   "cell_type": "code",
   "execution_count": null,
   "metadata": {},
   "outputs": [],
   "source": [
    "sql = 'select g.geometry, p.\"0-3\", p.\"1-3\",  p.\"2-3\", p.\"3-3\",  p.\"4-3\", p.\"5-3\",  p.\"6-3\" '\\\n",
    "      'from total_population p, grille g '\\\n",
    "      'where p.\"x-y\" = g.\"x-y\" and p.week = 12'\n",
    "pop = import_gpd_from_sql(sql)\n",
    "mean_tile =  pop[pop.columns[pop.columns.str.slice(2,3) == '3']].mean(1)\n",
    "pop[pop.columns[pop.columns.str.slice(2,3) == '3']] = pop[pop.columns[pop.columns.str.slice(2,3) == '3']].sub(mean_tile, axis='rows')"
   ]
  },
  {
   "cell_type": "code",
   "execution_count": null,
   "metadata": {},
   "outputs": [],
   "source": [
    "bins = [-100, -25, -5, 0, 5, 25, 100, 10000000000]\n",
    "vars = [str(h) + '-3'  for h in range(7)]\n",
    "for var in vars:\n",
    "    cmap(pop, var, dfg_bounds = reg.to_crs(\"EPSG:27572\"), bins = bins, png = var + '.png')"
   ]
  },
  {
   "cell_type": "markdown",
   "metadata": {},
   "source": [
    "## Paris, variation of daily volumes / weekly mean"
   ]
  },
  {
   "cell_type": "code",
   "execution_count": null,
   "metadata": {},
   "outputs": [],
   "source": [
    "bins = [-100, -50, -10, 0, 10, 50, 100, 10000000000]\n",
    "vars = [str(h) + '-3'  for h in range(7)]\n",
    "for var in vars:\n",
    "    cmap(pop.cx[585368:613390, 2420157:2439660], var, bins = bins, png = 'paris_week_' + var + '.png' , context = True, xlim =(585368,613390), ylim = (2420157,2439660))"
   ]
  },
  {
   "cell_type": "code",
   "execution_count": null,
   "metadata": {},
   "outputs": [],
   "source": []
  }
 ],
 "metadata": {
  "kernelspec": {
   "display_name": "Python 3 (ipykernel)",
   "language": "python",
   "name": "python3"
  },
  "language_info": {
   "codemirror_mode": {
    "name": "ipython",
    "version": 3
   },
   "file_extension": ".py",
   "mimetype": "text/x-python",
   "name": "python",
   "nbconvert_exporter": "python",
   "pygments_lexer": "ipython3",
   "version": "3.10.4"
  }
 },
 "nbformat": 4,
 "nbformat_minor": 4
}
